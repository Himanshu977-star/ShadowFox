{
 "cells": [
  {
   "cell_type": "code",
   "execution_count": 11,
   "id": "ddafb903",
   "metadata": {},
   "outputs": [
    {
     "name": "stdout",
     "output_type": "stream",
     "text": [
      " * Serving Flask app '__main__'\n",
      " * Debug mode: off\n"
     ]
    },
    {
     "name": "stderr",
     "output_type": "stream",
     "text": [
      "WARNING: This is a development server. Do not use it in a production deployment. Use a production WSGI server instead.\n",
      " * Running on http://127.0.0.1:5000\n",
      "Press CTRL+C to quit\n",
      "Exception in thread Thread-27:\n",
      "Traceback (most recent call last):\n",
      "  File \"c:\\Users\\ADARSH\\.conda\\envs\\tf_env\\lib\\threading.py\", line 980, in _bootstrap_inner\n",
      "    self.run()\n",
      "  File \"c:\\Users\\ADARSH\\.conda\\envs\\tf_env\\lib\\threading.py\", line 1306, in run\n",
      "    self.function(*self.args, **self.kwargs)\n",
      "  File \"c:\\Users\\ADARSH\\.conda\\envs\\tf_env\\lib\\site-packages\\flask_ngrok.py\", line 70, in start_ngrok\n",
      "    ngrok_address = _run_ngrok()\n",
      "  File \"c:\\Users\\ADARSH\\.conda\\envs\\tf_env\\lib\\site-packages\\flask_ngrok.py\", line 29, in _run_ngrok\n",
      "    os.chmod(executable, 777)\n",
      "FileNotFoundError: [WinError 2] The system cannot find the file specified: 'C:\\\\Users\\\\ADARSH\\\\AppData\\\\Local\\\\Temp\\\\ngrok\\\\ngrok.exe'\n",
      "127.0.0.1 - - [06/Sep/2025 16:23:33] \"GET / HTTP/1.1\" 200 -\n",
      "127.0.0.1 - - [06/Sep/2025 16:23:49] \"POST / HTTP/1.1\" 200 -\n"
     ]
    }
   ],
   "source": [
    "from flask import Flask, request, render_template\n",
    "import joblib\n",
    "import pandas as pd\n",
    "from flask_ngrok import run_with_ngrok  # Import ngrok integration\n",
    "\n",
    "app = Flask(__name__)\n",
    "run_with_ngrok(app)  # Start ngrok when app runs\n",
    "\n",
    "# Load model\n",
    "model = joblib.load(\"car_price_model.pkl\")\n",
    "\n",
    "# Encodings\n",
    "fuel_mapping = {'Petrol': 2, 'Diesel': 0, 'CNG': 1}\n",
    "seller_mapping = {'Dealer': 0, 'Individual': 1}\n",
    "trans_mapping = {'Manual': 1, 'Automatic': 0}\n",
    "\n",
    "@app.route('/', methods=['GET', 'POST'])\n",
    "def home():\n",
    "    prediction = None\n",
    "    if request.method == 'POST':\n",
    "        data = {\n",
    "            'Present_Price': float(request.form['present_price']),\n",
    "            'Kms_Driven': int(request.form['kms_driven']),\n",
    "            'Fuel_Type': fuel_mapping[request.form['fuel_type']],\n",
    "            'Seller_Type': seller_mapping[request.form['seller_type']],\n",
    "            'Transmission': trans_mapping[request.form['transmission']],\n",
    "            'Owner': int(request.form['owner']),\n",
    "            'Current_Age': int(request.form['age'])\n",
    "        }\n",
    "        df = pd.DataFrame([data])\n",
    "        pred = model.predict(df)[0]\n",
    "        prediction = round(pred, 2)\n",
    "\n",
    "    return render_template('index.html', prediction=prediction)\n",
    "\n",
    "if __name__ == '__main__':\n",
    "    app.run()\n"
   ]
  }
 ],
 "metadata": {
  "kernelspec": {
   "display_name": "Python (tf_env)",
   "language": "python",
   "name": "tf_env"
  },
  "language_info": {
   "codemirror_mode": {
    "name": "ipython",
    "version": 3
   },
   "file_extension": ".py",
   "mimetype": "text/x-python",
   "name": "python",
   "nbconvert_exporter": "python",
   "pygments_lexer": "ipython3",
   "version": "3.9.23"
  }
 },
 "nbformat": 4,
 "nbformat_minor": 5
}
